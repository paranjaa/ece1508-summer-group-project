{
  "nbformat": 4,
  "nbformat_minor": 0,
  "metadata": {
    "colab": {
      "provenance": [],
      "authorship_tag": "ABX9TyMqAV+W5SdRu9I7llb8UFB8",
      "include_colab_link": true
    },
    "kernelspec": {
      "name": "python3",
      "display_name": "Python 3"
    },
    "language_info": {
      "name": "python"
    }
  },
  "cells": [
    {
      "cell_type": "markdown",
      "metadata": {
        "id": "view-in-github",
        "colab_type": "text"
      },
      "source": [
        "<a href=\"https://colab.research.google.com/github/paranjaa/ece1508-summer-group-project/blob/main/ECE1508_CourseProject.ipynb\" target=\"_parent\"><img src=\"https://colab.research.google.com/assets/colab-badge.svg\" alt=\"Open In Colab\"/></a>"
      ]
    },
    {
      "cell_type": "code",
      "execution_count": 1,
      "metadata": {
        "colab": {
          "base_uri": "https://localhost:8080/"
        },
        "id": "OMj8j1F24XWz",
        "outputId": "8cebb3fb-666b-4c65-fd5d-1a398cffa0ce"
      },
      "outputs": [
        {
          "output_type": "stream",
          "name": "stdout",
          "text": [
            "Hello World\n"
          ]
        }
      ],
      "source": [
        "print(\"Hello World\")"
      ]
    },
    {
      "cell_type": "markdown",
      "source": [
        "# ECE 1508 Group Project #\n",
        "# Topic B-1:Educational Code Generation using LLMs with Self-Refinement #\n"
      ],
      "metadata": {
        "id": "1iYDMQhf7MrY"
      }
    },
    {
      "cell_type": "markdown",
      "source": [
        "### Requirement 1 ###"
      ],
      "metadata": {
        "id": "KLlTyxEY7dmo"
      }
    },
    {
      "cell_type": "markdown",
      "source": [
        "1. Choose a small set of algorithmic problems (10-15) from public sources such as Leetcode, Hacker-\n",
        "Rank, or open educational CS repositories with permissions for public usage\n",
        "\n",
        "Dataset preparation and task formulation. Select algorithmic problems, write ground-truth test cases,\n",
        "and define the format of prompts and expected outputs."
      ],
      "metadata": {
        "id": "Sfn6qaDY9ETc"
      }
    },
    {
      "cell_type": "code",
      "source": [],
      "metadata": {
        "id": "g_qzkmGo7Owc"
      },
      "execution_count": null,
      "outputs": []
    },
    {
      "cell_type": "markdown",
      "source": [
        "### Requirement 2 ###"
      ],
      "metadata": {
        "id": "_RX4wduj7l8c"
      }
    },
    {
      "cell_type": "markdown",
      "source": [
        "2. Use a pretrained code-generating LLM, e.g., CodeT5 [4], StarCoder [2], GPT-J [3] or Mistral [1], to\n",
        "generate solutions based on the problem statements\n",
        "\n",
        "Initial pipeline construction. Build the core pipeline that sends problem statements to the LLM,\n",
        "retrieves code, and runs it against the test suite"
      ],
      "metadata": {
        "id": "x8Gvbf6H9H_b"
      }
    },
    {
      "cell_type": "code",
      "source": [],
      "metadata": {
        "id": "xWs3mbCz7noj"
      },
      "execution_count": null,
      "outputs": []
    },
    {
      "cell_type": "markdown",
      "source": [
        "### Requirement 3 ###"
      ],
      "metadata": {
        "id": "ecJqjLHR7oMa"
      }
    },
    {
      "cell_type": "markdown",
      "source": [
        "3. Implement a test suite for each problem to evaluate correctness of generated code.\n",
        "\n",
        "Pedagogical enhancement. Extend the pipeline to request and extract explanations or inline com-\n",
        "ments. Define a rubric for evaluating their quality"
      ],
      "metadata": {
        "id": "rTjNfyOP9LG0"
      }
    },
    {
      "cell_type": "code",
      "source": [],
      "metadata": {
        "id": "E6avSCDz7okh"
      },
      "execution_count": null,
      "outputs": []
    },
    {
      "cell_type": "markdown",
      "source": [
        "### Requirement 4 ###"
      ],
      "metadata": {
        "id": "_nR31IMD8tIv"
      }
    },
    {
      "cell_type": "markdown",
      "source": [
        "4. Design a prompt structure that encourages the LLM to provide step-by-step explanations, e.g., via\n",
        "docstrings, comments, or separate plan generation.\n",
        "\n",
        "Self-refinement loop. Build a mechanism for detecting test failures and modifying the prompt or\n",
        "re-querying the model with contextual feedback.\n"
      ],
      "metadata": {
        "id": "6k4_YcQ29YwM"
      }
    },
    {
      "cell_type": "code",
      "source": [],
      "metadata": {
        "id": "lnr13Daf8v8-"
      },
      "execution_count": null,
      "outputs": []
    },
    {
      "cell_type": "markdown",
      "source": [
        "### Requirement 5 ###"
      ],
      "metadata": {
        "id": "-SR67tte829L"
      }
    },
    {
      "cell_type": "markdown",
      "source": [
        "5. Implement a simple self-refinement loop where the agent detects incorrect code via test failures and\n",
        "attempts prompt reformulation or self-debugging.\n",
        "\n",
        "\n",
        "Build a generative model, e.g., VAE or GAN, that learns to transform correct code\n",
        "snippets into stylistically different but functionally equivalent versions. You may use a small style\n",
        "reference bank for this part"
      ],
      "metadata": {
        "id": "xG45tZ5c9Z56"
      }
    },
    {
      "cell_type": "code",
      "source": [],
      "metadata": {
        "id": "a9v0hQhB83vJ"
      },
      "execution_count": null,
      "outputs": []
    },
    {
      "cell_type": "markdown",
      "source": [
        "### Requirement 6 ###"
      ],
      "metadata": {
        "id": "9VDcGxlv84Fq"
      }
    },
    {
      "cell_type": "markdown",
      "source": [
        "6. Evaluate both code correctness, e.g., test pass rate, and pedagogical quality, e.g., readability,\n",
        "coherence of explanations."
      ],
      "metadata": {
        "id": "VYRhKDb39cad"
      }
    },
    {
      "cell_type": "code",
      "source": [],
      "metadata": {
        "id": "fP7iScFt840Y"
      },
      "execution_count": null,
      "outputs": []
    },
    {
      "cell_type": "markdown",
      "source": [
        "### Requirement 7 ###"
      ],
      "metadata": {
        "id": "GfgGR3fm85Xo"
      }
    },
    {
      "cell_type": "code",
      "source": [],
      "metadata": {
        "id": "vvN1JKwk86As"
      },
      "execution_count": null,
      "outputs": []
    }
  ]
}